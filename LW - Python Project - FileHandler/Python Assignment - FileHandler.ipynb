{
 "cells": [
  {
   "cell_type": "code",
   "execution_count": 3,
   "id": "cc30330e-b427-4fc5-b5b6-238fde88a401",
   "metadata": {},
   "outputs": [],
   "source": [
    "import os\n",
    "import json\n",
    "import csv\n",
    "\n",
    "\n",
    "def load_data(): # to load data \n",
    "    sales_data={} #sales data\n",
    "    product_details={} # product details using json\n",
    "    product_descriptions={} # product description using \n",
    "\n",
    "    #load the sales_data\n",
    "    path = \"C:\\\\Users\\\\siddhesh\\\\Downloads\\\\upgrad\\\\python classes\\\\python lms project\\\\mainfolder\\\\mainfolder\\\\sales_data.csv\"\n",
    "    with open(path, 'r') as file:\n",
    "        reader = csv.reader(file)\n",
    "        header=next(reader)\n",
    "        for row in reader:\n",
    "            sales_data[row[0]] = {header[i]: row[i] for i in range(1, len(header))}\n",
    "    #load the data from json files\n",
    "    path_prod= \"C:\\\\Users\\\\siddhesh\\\\Downloads\\\\upgrad\\\\python classes\\\\python lms project\\\\mainfolder\\\\mainfolder\\\\product_details\"\n",
    "    for file in os.listdir(path_prod):\n",
    "            if file.endswith('.json'):\n",
    "                file_path=os.path.join(path_prod,file)\n",
    "                with open(file_path,'r') as f:\n",
    "                        product_sku = file.split('.')[0]\n",
    "                        product_details[product_sku] = json.load(f)\n",
    "   \n",
    "    # load the data from text file \n",
    "    path_description=\"C:\\\\Users\\\\siddhesh\\\\Downloads\\\\upgrad\\\\python classes\\\\python lms project\\\\mainfolder\\\\mainfolder\\\\product_description\"\n",
    "    for file in os.listdir(path_description):\n",
    "        if file.endswith(\".txt\"):\n",
    "            file_path=os.path.join(path_description,file)\n",
    "            with open(file_path,'r') as fi:\n",
    "                product_sk=file.split('.')[0]\n",
    "                product_descriptions[product_sk]=fi.read()\n",
    "    return sales_data, product_details,product_descriptions\n",
    "\n"
   ]
  },
  {
   "cell_type": "markdown",
   "id": "aa93d6ab-113a-4c72-91a5-0636c27df112",
   "metadata": {},
   "source": [
    "# EXPLORE THE DATA"
   ]
  },
  {
   "cell_type": "code",
   "execution_count": 4,
   "id": "911e23c7-648f-4498-8128-e15e09dede04",
   "metadata": {},
   "outputs": [
    {
     "name": "stdout",
     "output_type": "stream",
     "text": [
      "Sales Data:\n",
      "{'AISJDKFJW93NJ': {'Day1': '10', 'Day2': '12', 'Day3': '15', 'Day4': '18', 'Day5': '20', 'Day6': '22', 'Day7': '25', 'Day8': '28', 'Day9': '26', 'Day10': '30', 'Day11': '32', 'Day12': '29', 'Day13': '27', 'Day14': '24'}, 'DJKFIEI432FIE': {'Day1': '8', 'Day2': '10', 'Day3': '12', 'Day4': '15', 'Day5': '20', 'Day6': '18', 'Day7': '14', 'Day8': '13', 'Day9': '17', 'Day10': '10', 'Day11': '8', 'Day12': '11', 'Day13': '14', 'Day14': '16'}, 'GGOENEBJ079499': {'Day1': '15', 'Day2': '18', 'Day3': '22', 'Day4': '25', 'Day5': '28', 'Day6': '20', 'Day7': '17', 'Day8': '23', 'Day9': '19', 'Day10': '21', 'Day11': '24', 'Day12': '27', 'Day13': '18', 'Day14': '20'}, 'HJSKNWK429DJE': {'Day1': '30', 'Day2': '32', 'Day3': '35', 'Day4': '38', 'Day5': '40', 'Day6': '42', 'Day7': '45', 'Day8': '48', 'Day9': '50', 'Day10': '52', 'Day11': '55', 'Day12': '53', 'Day13': '49', 'Day14': '47'}, 'JFKL3940NFKLJ': {'Day1': '18', 'Day2': '20', 'Day3': '22', 'Day4': '25', 'Day5': '28', 'Day6': '30', 'Day7': '32', 'Day8': '35', 'Day9': '38', 'Day10': '36', 'Day11': '33', 'Day12': '29', 'Day13': '26', 'Day14': '24'}, 'LKDFJ49LSDJKL': {'Day1': '25', 'Day2': '28', 'Day3': '30', 'Day4': '32', 'Day5': '35', 'Day6': '38', 'Day7': '42', 'Day8': '40', 'Day9': '37', 'Day10': '34', 'Day11': '36', 'Day12': '31', 'Day13': '29', 'Day14': '27'}, 'MWKDI3JFK39SL': {'Day1': '30', 'Day2': '35', 'Day3': '40', 'Day4': '45', 'Day5': '50', 'Day6': '42', 'Day7': '37', 'Day8': '38', 'Day9': '41', 'Day10': '36', 'Day11': '33', 'Day12': '39', 'Day13': '40', 'Day14': '44'}, 'NEKFJOWE9FDIW': {'Day1': '12', 'Day2': '15', 'Day3': '18', 'Day4': '20', 'Day5': '22', 'Day6': '24', 'Day7': '21', 'Day8': '23', 'Day9': '25', 'Day10': '28', 'Day11': '30', 'Day12': '27', 'Day13': '26', 'Day14': '29'}, 'OWEJL398FWJLK': {'Day1': '20', 'Day2': '22', 'Day3': '25', 'Day4': '28', 'Day5': '30', 'Day6': '32', 'Day7': '35', 'Day8': '38', 'Day9': '36', 'Day10': '33', 'Day11': '29', 'Day12': '26', 'Day13': '24', 'Day14': '27'}, 'XPLFJW2490XJN': {'Day1': '5', 'Day2': '8', 'Day3': '9', 'Day4': '12', 'Day5': '15', 'Day6': '10', 'Day7': '14', 'Day8': '16', 'Day9': '20', 'Day10': '18', 'Day11': '22', 'Day12': '25', 'Day13': '19', 'Day14': '21'}}\n",
      "\n",
      "Product Details:\n",
      "{'details_AISJDKFJW93NJ': {'product_name': 'Wall Art Print', 'brand': 'ArtCraft', 'model': 'NatureCanvas-1001', 'specifications': 'Canvas print, Ready to hang', 'price': '$49.99', 'availability': 'In stock'}, 'details_DJKFIEI432FIE': {'product_name': \"Men's Running Shoes\", 'brand': 'RunFit', 'model': 'SpeedX-500', 'specifications': 'Size 10, Lightweight design, Breathable material', 'price': '$79.99', 'availability': 'In stock'}, 'details_GGOENEBJ079499': {'product_name': 'Smartphone', 'brand': 'XYZ Electronics', 'model': 'ABC-2000', 'specifications': '6.5-inch display, 128GB storage, 16MP camera', 'price': '$499.99', 'availability': 'In stock'}, 'details_HJSKNWK429DJE': {'product_name': 'Wireless Earbuds', 'brand': 'SoundSync', 'model': 'TunePro-2022', 'specifications': 'Bluetooth 5.0, 20 hours battery life, Touch controls', 'price': '$89.99', 'availability': 'In stock'}, 'details_JFKL3940NFKLJ': {'product_name': 'Resistance Bands Set', 'brand': 'FitFlex', 'model': 'StrengthPro-300', 'specifications': '5 bands, Varying resistance levels, Portable', 'price': '$34.99', 'availability': 'In stock'}, 'details_LKDFJ49LSDJKL': {'product_name': 'Anti-Aging Face Cream', 'brand': 'GlowBeauty', 'model': 'AgeDefy-300', 'specifications': 'Natural ingredients, Hydrating formula', 'price': '$39.99', 'availability': 'In stock'}, 'details_MWKDI3JFK39SL': {'product_name': 'Fictional Novel', 'brand': 'BestBooks', 'model': None, 'specifications': 'Paperback, 300 pages', 'price': '$14.99', 'availability': 'In stock'}, 'details_NEKFJOWE9FDIW': {'product_name': 'Board Game', 'brand': 'FamilyFun', 'model': 'GameNight-2022', 'specifications': '2-6 players, Ages 8 and up', 'price': '$29.99', 'availability': 'In stock'}, 'details_OWEJL398FWJLK': {'product_name': 'Yoga Mat', 'brand': 'ZenFitness', 'model': 'EcoMat-500', 'specifications': 'Non-slip, 6mm thickness, Eco-friendly material', 'price': '$19.99', 'availability': 'In stock'}, 'details_XPLFJW2490XJN': {'product_name': 'Robot Vacuum Cleaner', 'brand': 'CleanTech', 'model': 'AutoSweep-9000', 'specifications': 'Smart navigation, HEPA filter, 90 minutes runtime', 'price': '$249.99', 'availability': 'In stock'}}\n",
      "\n",
      "Product Descriptions:\n",
      "{'description_AISJDKFJW93NJ': \"Transform your living space with ArtCraft's NatureCanvas-1001 Wall Art Print.\\nThis canvas print, ready to hang, brings the beauty of nature into your home.\\nWith dimensions of 16 x 20 inches and a 4.6/5 stars rating, it's a stunning addition to your decor, creating a focal point that captures attention and sparks conversation.\", 'description_DJKFIEI432FIE': \"Elevate your running experience with the RunFit SpeedX-500 Men's Running Shoes.\\nDesigned for performance, these shoes feature a lightweight design, breathable material, and are available in vibrant Red, Blue, and classic Black.\\nWhether you're a seasoned runner or just starting, these shoes provide comfort and support for every stride, ensuring you reach new milestones effortlessly.\", 'description_GGOENEBJ079499': 'Dive into the future with the XYZ Electronics Smartphone, model ABC-2000.\\nBoasting a 6.5-inch display, 128GB storage, and a 16MP camera, this powerful device redefines the smartphone experience.\\nWith a sleek design and available in Black, Silver, and Blue, it combines cutting-edge technology with style, ensuring you stay connected in the most sophisticated way possible.', 'description_HJSKNWK429DJE': \"Immerse yourself in superior audio quality with SoundSync's TunePro-2022 Wireless Earbuds.\\nFeaturing Bluetooth 5.0, 20 hours of battery life, and touch controls, these earbuds deliver a seamless and immersive listening experience.\\nAvailable in Black and White, they combine style with functionality for music lovers on the go. \\nWith a 4.7/5 stars rating, they stand out as a top choice in the realm of wireless audio.\", 'description_JFKL3940NFKLJ': \"Embrace versatility in your workouts with FitFlex's StrengthPro-300 Resistance Bands Set.\\nWith 5 bands offering varying resistance levels and portability, this set is your go-to for effective strength training.\\nAvailable in Red, Yellow, and Blue, it caters to different fitness levels and adds a dynamic dimension to your exercise routine.\", 'description_LKDFJ49LSDJKL': \"Rediscover youthful radiance with GlowBeauty's AgeDefy-300 Anti-Aging Face Cream.\\nFormulated with natural ingredients and a hydrating formula, this skincare essential rejuvenates and nourishes your skin, leaving you with a vibrant and refreshed complexion.\\nWith a stellar 4.7/5 stars rating, it's a must-have for those embracing the journey to ageless beauty.\", 'description_MWKDI3JFK39SL': \"Immerse yourself in the world of storytelling with BestBooks' Fictional Novel.\\nThis paperback, spanning 300 pages, promises a captivating journey through the pages of an engaging narrative.\\nIdeal for avid readers seeking an escape, this novel, with a 4.6/5 stars rating, is a testament to its ability to weave a compelling tale that keeps you hooked until the last page.\", 'description_NEKFJOWE9FDIW': \"Unleash the fun with FamilyFun's GameNight-2022 Board Game.\\nDesigned for 2-6 players and suitable for ages 8 and up, this exciting game promises laughter and bonding moments for the entire family.\\nWith a 4.4/5 stars rating, it's a testament to its ability to turn any ordinary night into an extraordinary game night filled with friendly competition and shared joy.\", 'description_OWEJL398FWJLK': \"Elevate your yoga practice with ZenFitness' EcoMat-500 Yoga Mat.\\nFeaturing a non-slip surface, 6mm thickness, and eco-friendly materials, this high-quality mat provides the perfect foundation for your workouts.\\nAvailable in Purple, Green, and Blue, it not only enhances your comfort but also adds a touch of serenity to your exercise routine.\", 'description_XPLFJW2490XJN': 'Introducing the CleanTech AutoSweep-9000 Robot Vacuum Cleaner â€“ your smart companion for automated cleaning.\\nWith smart navigation, a HEPA filter, and a runtime of 90 minutes, this efficient device takes care of your cleaning needs.\\nAvailable in White and Silver, it blends seamlessly into your home, making cleanliness a hassle-free experience.'}\n"
     ]
    }
   ],
   "source": [
    "sales_data, product_details, product_descriptions = load_data()\n",
    "# load all the data from databases\n",
    "print(\"Sales Data:\")\n",
    "print(sales_data)\n",
    "print(\"\\nProduct Details:\")\n",
    "print(product_details)\n",
    "print(\"\\nProduct Descriptions:\")\n",
    "print(product_descriptions)"
   ]
  },
  {
   "cell_type": "code",
   "execution_count": 5,
   "id": "17d91513-4434-418c-abb3-0cb22f77cba8",
   "metadata": {},
   "outputs": [
    {
     "name": "stdout",
     "output_type": "stream",
     "text": [
      "Sales Data: {'Day1': '10', 'Day2': '12', 'Day3': '15', 'Day4': '18', 'Day5': '20', 'Day6': '22', 'Day7': '25', 'Day8': '28', 'Day9': '26', 'Day10': '30', 'Day11': '32', 'Day12': '29', 'Day13': '27', 'Day14': '24'}\n",
      "Product Details: {'product_name': 'Wall Art Print', 'brand': 'ArtCraft', 'model': 'NatureCanvas-1001', 'specifications': 'Canvas print, Ready to hang', 'price': '$49.99', 'availability': 'In stock'}\n",
      "Product Description: Transform your living space with ArtCraft's NatureCanvas-1001 Wall Art Print.\n",
      "This canvas print, ready to hang, brings the beauty of nature into your home.\n",
      "With dimensions of 16 x 20 inches and a 4.6/5 stars rating, it's a stunning addition to your decor, creating a focal point that captures attention and sparks conversation.\n",
      "Sales Data: {'Day1': '8', 'Day2': '10', 'Day3': '12', 'Day4': '15', 'Day5': '20', 'Day6': '18', 'Day7': '14', 'Day8': '13', 'Day9': '17', 'Day10': '10', 'Day11': '8', 'Day12': '11', 'Day13': '14', 'Day14': '16'}\n",
      "Product Details: {'product_name': \"Men's Running Shoes\", 'brand': 'RunFit', 'model': 'SpeedX-500', 'specifications': 'Size 10, Lightweight design, Breathable material', 'price': '$79.99', 'availability': 'In stock'}\n",
      "Product Description: Elevate your running experience with the RunFit SpeedX-500 Men's Running Shoes.\n",
      "Designed for performance, these shoes feature a lightweight design, breathable material, and are available in vibrant Red, Blue, and classic Black.\n",
      "Whether you're a seasoned runner or just starting, these shoes provide comfort and support for every stride, ensuring you reach new milestones effortlessly.\n",
      "Sales Data: {'Day1': '15', 'Day2': '18', 'Day3': '22', 'Day4': '25', 'Day5': '28', 'Day6': '20', 'Day7': '17', 'Day8': '23', 'Day9': '19', 'Day10': '21', 'Day11': '24', 'Day12': '27', 'Day13': '18', 'Day14': '20'}\n",
      "Product Details: {'product_name': 'Smartphone', 'brand': 'XYZ Electronics', 'model': 'ABC-2000', 'specifications': '6.5-inch display, 128GB storage, 16MP camera', 'price': '$499.99', 'availability': 'In stock'}\n",
      "Product Description: Dive into the future with the XYZ Electronics Smartphone, model ABC-2000.\n",
      "Boasting a 6.5-inch display, 128GB storage, and a 16MP camera, this powerful device redefines the smartphone experience.\n",
      "With a sleek design and available in Black, Silver, and Blue, it combines cutting-edge technology with style, ensuring you stay connected in the most sophisticated way possible.\n",
      "Sales Data: {'Day1': '30', 'Day2': '32', 'Day3': '35', 'Day4': '38', 'Day5': '40', 'Day6': '42', 'Day7': '45', 'Day8': '48', 'Day9': '50', 'Day10': '52', 'Day11': '55', 'Day12': '53', 'Day13': '49', 'Day14': '47'}\n",
      "Product Details: {'product_name': 'Wireless Earbuds', 'brand': 'SoundSync', 'model': 'TunePro-2022', 'specifications': 'Bluetooth 5.0, 20 hours battery life, Touch controls', 'price': '$89.99', 'availability': 'In stock'}\n",
      "Product Description: Immerse yourself in superior audio quality with SoundSync's TunePro-2022 Wireless Earbuds.\n",
      "Featuring Bluetooth 5.0, 20 hours of battery life, and touch controls, these earbuds deliver a seamless and immersive listening experience.\n",
      "Available in Black and White, they combine style with functionality for music lovers on the go. \n",
      "With a 4.7/5 stars rating, they stand out as a top choice in the realm of wireless audio.\n",
      "Sales Data: {'Day1': '18', 'Day2': '20', 'Day3': '22', 'Day4': '25', 'Day5': '28', 'Day6': '30', 'Day7': '32', 'Day8': '35', 'Day9': '38', 'Day10': '36', 'Day11': '33', 'Day12': '29', 'Day13': '26', 'Day14': '24'}\n",
      "Product Details: {'product_name': 'Resistance Bands Set', 'brand': 'FitFlex', 'model': 'StrengthPro-300', 'specifications': '5 bands, Varying resistance levels, Portable', 'price': '$34.99', 'availability': 'In stock'}\n",
      "Product Description: Embrace versatility in your workouts with FitFlex's StrengthPro-300 Resistance Bands Set.\n",
      "With 5 bands offering varying resistance levels and portability, this set is your go-to for effective strength training.\n",
      "Available in Red, Yellow, and Blue, it caters to different fitness levels and adds a dynamic dimension to your exercise routine.\n",
      "Sales Data: {'Day1': '25', 'Day2': '28', 'Day3': '30', 'Day4': '32', 'Day5': '35', 'Day6': '38', 'Day7': '42', 'Day8': '40', 'Day9': '37', 'Day10': '34', 'Day11': '36', 'Day12': '31', 'Day13': '29', 'Day14': '27'}\n",
      "Product Details: {'product_name': 'Anti-Aging Face Cream', 'brand': 'GlowBeauty', 'model': 'AgeDefy-300', 'specifications': 'Natural ingredients, Hydrating formula', 'price': '$39.99', 'availability': 'In stock'}\n",
      "Product Description: Rediscover youthful radiance with GlowBeauty's AgeDefy-300 Anti-Aging Face Cream.\n",
      "Formulated with natural ingredients and a hydrating formula, this skincare essential rejuvenates and nourishes your skin, leaving you with a vibrant and refreshed complexion.\n",
      "With a stellar 4.7/5 stars rating, it's a must-have for those embracing the journey to ageless beauty.\n",
      "Sales Data: {'Day1': '30', 'Day2': '35', 'Day3': '40', 'Day4': '45', 'Day5': '50', 'Day6': '42', 'Day7': '37', 'Day8': '38', 'Day9': '41', 'Day10': '36', 'Day11': '33', 'Day12': '39', 'Day13': '40', 'Day14': '44'}\n",
      "Product Details: {'product_name': 'Fictional Novel', 'brand': 'BestBooks', 'model': None, 'specifications': 'Paperback, 300 pages', 'price': '$14.99', 'availability': 'In stock'}\n",
      "Product Description: Immerse yourself in the world of storytelling with BestBooks' Fictional Novel.\n",
      "This paperback, spanning 300 pages, promises a captivating journey through the pages of an engaging narrative.\n",
      "Ideal for avid readers seeking an escape, this novel, with a 4.6/5 stars rating, is a testament to its ability to weave a compelling tale that keeps you hooked until the last page.\n",
      "Sales Data: {'Day1': '12', 'Day2': '15', 'Day3': '18', 'Day4': '20', 'Day5': '22', 'Day6': '24', 'Day7': '21', 'Day8': '23', 'Day9': '25', 'Day10': '28', 'Day11': '30', 'Day12': '27', 'Day13': '26', 'Day14': '29'}\n",
      "Product Details: {'product_name': 'Board Game', 'brand': 'FamilyFun', 'model': 'GameNight-2022', 'specifications': '2-6 players, Ages 8 and up', 'price': '$29.99', 'availability': 'In stock'}\n",
      "Product Description: Unleash the fun with FamilyFun's GameNight-2022 Board Game.\n",
      "Designed for 2-6 players and suitable for ages 8 and up, this exciting game promises laughter and bonding moments for the entire family.\n",
      "With a 4.4/5 stars rating, it's a testament to its ability to turn any ordinary night into an extraordinary game night filled with friendly competition and shared joy.\n",
      "Sales Data: {'Day1': '20', 'Day2': '22', 'Day3': '25', 'Day4': '28', 'Day5': '30', 'Day6': '32', 'Day7': '35', 'Day8': '38', 'Day9': '36', 'Day10': '33', 'Day11': '29', 'Day12': '26', 'Day13': '24', 'Day14': '27'}\n",
      "Product Details: {'product_name': 'Yoga Mat', 'brand': 'ZenFitness', 'model': 'EcoMat-500', 'specifications': 'Non-slip, 6mm thickness, Eco-friendly material', 'price': '$19.99', 'availability': 'In stock'}\n",
      "Product Description: Elevate your yoga practice with ZenFitness' EcoMat-500 Yoga Mat.\n",
      "Featuring a non-slip surface, 6mm thickness, and eco-friendly materials, this high-quality mat provides the perfect foundation for your workouts.\n",
      "Available in Purple, Green, and Blue, it not only enhances your comfort but also adds a touch of serenity to your exercise routine.\n",
      "Sales Data: {'Day1': '5', 'Day2': '8', 'Day3': '9', 'Day4': '12', 'Day5': '15', 'Day6': '10', 'Day7': '14', 'Day8': '16', 'Day9': '20', 'Day10': '18', 'Day11': '22', 'Day12': '25', 'Day13': '19', 'Day14': '21'}\n",
      "Product Details: {'product_name': 'Robot Vacuum Cleaner', 'brand': 'CleanTech', 'model': 'AutoSweep-9000', 'specifications': 'Smart navigation, HEPA filter, 90 minutes runtime', 'price': '$249.99', 'availability': 'In stock'}\n",
      "Product Description: Introducing the CleanTech AutoSweep-9000 Robot Vacuum Cleaner â€“ your smart companion for automated cleaning.\n",
      "With smart navigation, a HEPA filter, and a runtime of 90 minutes, this efficient device takes care of your cleaning needs.\n",
      "Available in White and Silver, it blends seamlessly into your home, making cleanliness a hassle-free experience.\n"
     ]
    }
   ],
   "source": [
    "#Create a list named product_skus which contains product SKUs extracted from one of the dictionaries using dict.keys().\n",
    "product_skus = list(sales_data.keys())\n",
    "for sku in product_skus:\n",
    "    #Display sales data, product details, and product description of a product using the product_skus list\n",
    "    print(\"Sales Data:\", sales_data[sku])\n",
    "    print(\"Product Details:\", product_details[f\"details_{sku}\"])\n",
    "    print(\"Product Description:\", product_descriptions[f\"description_{sku}\"])"
   ]
  },
  {
   "cell_type": "markdown",
   "id": "285394e2-b0e0-43c9-9b61-2484f5e51841",
   "metadata": {},
   "source": [
    "# To display the length of all data"
   ]
  },
  {
   "cell_type": "code",
   "execution_count": 6,
   "id": "f72989f1-3140-4c99-a830-abc3e26a46eb",
   "metadata": {},
   "outputs": [
    {
     "name": "stdout",
     "output_type": "stream",
     "text": [
      "length of sales_data: 10\n",
      "length of product_details: 10\n",
      "length of product_descriptiion: 10\n"
     ]
    }
   ],
   "source": [
    "print(\"length of sales_data:\",len(sales_data))\n",
    "print(\"length of product_details:\",len(product_details))\n",
    "print(\"length of product_descriptiion:\",len(product_descriptions))"
   ]
  },
  {
   "cell_type": "markdown",
   "id": "98470017-7953-445f-b7e6-1ea70a60c4ba",
   "metadata": {},
   "source": [
    "# To add new data to the existing database"
   ]
  },
  {
   "cell_type": "code",
   "execution_count": 7,
   "id": "5378b5e4-19ee-4c26-a1b4-037c49f06206",
   "metadata": {},
   "outputs": [
    {
     "name": "stdout",
     "output_type": "stream",
     "text": [
      "Sales Data:\n",
      "{'AISJDKFJW93NJ': {'Day1': '10', 'Day2': '12', 'Day3': '15', 'Day4': '18', 'Day5': '20', 'Day6': '22', 'Day7': '25', 'Day8': '28', 'Day9': '26', 'Day10': '30', 'Day11': '32', 'Day12': '29', 'Day13': '27', 'Day14': '24'}, 'DJKFIEI432FIE': {'Day1': '8', 'Day2': '10', 'Day3': '12', 'Day4': '15', 'Day5': '20', 'Day6': '18', 'Day7': '14', 'Day8': '13', 'Day9': '17', 'Day10': '10', 'Day11': '8', 'Day12': '11', 'Day13': '14', 'Day14': '16'}, 'GGOENEBJ079499': {'Day1': '15', 'Day2': '18', 'Day3': '22', 'Day4': '25', 'Day5': '28', 'Day6': '20', 'Day7': '17', 'Day8': '23', 'Day9': '19', 'Day10': '21', 'Day11': '24', 'Day12': '27', 'Day13': '18', 'Day14': '20'}, 'HJSKNWK429DJE': {'Day1': '30', 'Day2': '32', 'Day3': '35', 'Day4': '38', 'Day5': '40', 'Day6': '42', 'Day7': '45', 'Day8': '48', 'Day9': '50', 'Day10': '52', 'Day11': '55', 'Day12': '53', 'Day13': '49', 'Day14': '47'}, 'JFKL3940NFKLJ': {'Day1': '18', 'Day2': '20', 'Day3': '22', 'Day4': '25', 'Day5': '28', 'Day6': '30', 'Day7': '32', 'Day8': '35', 'Day9': '38', 'Day10': '36', 'Day11': '33', 'Day12': '29', 'Day13': '26', 'Day14': '24'}, 'LKDFJ49LSDJKL': {'Day1': '25', 'Day2': '28', 'Day3': '30', 'Day4': '32', 'Day5': '35', 'Day6': '38', 'Day7': '42', 'Day8': '40', 'Day9': '37', 'Day10': '34', 'Day11': '36', 'Day12': '31', 'Day13': '29', 'Day14': '27'}, 'MWKDI3JFK39SL': {'Day1': '30', 'Day2': '35', 'Day3': '40', 'Day4': '45', 'Day5': '50', 'Day6': '42', 'Day7': '37', 'Day8': '38', 'Day9': '41', 'Day10': '36', 'Day11': '33', 'Day12': '39', 'Day13': '40', 'Day14': '44'}, 'NEKFJOWE9FDIW': {'Day1': '12', 'Day2': '15', 'Day3': '18', 'Day4': '20', 'Day5': '22', 'Day6': '24', 'Day7': '21', 'Day8': '23', 'Day9': '25', 'Day10': '28', 'Day11': '30', 'Day12': '27', 'Day13': '26', 'Day14': '29'}, 'OWEJL398FWJLK': {'Day1': '20', 'Day2': '22', 'Day3': '25', 'Day4': '28', 'Day5': '30', 'Day6': '32', 'Day7': '35', 'Day8': '38', 'Day9': '36', 'Day10': '33', 'Day11': '29', 'Day12': '26', 'Day13': '24', 'Day14': '27'}, 'XPLFJW2490XJN': {'Day1': '5', 'Day2': '8', 'Day3': '9', 'Day4': '12', 'Day5': '15', 'Day6': '10', 'Day7': '14', 'Day8': '16', 'Day9': '20', 'Day10': '18', 'Day11': '22', 'Day12': '25', 'Day13': '19', 'Day14': '21'}, 'TYS56KFJW93NJ': [0, 0, 0, 0, 0, 0, 0, 0, 0, 0, 0, 0, 0, 0]}\n",
      "\n",
      "Product Details:\n",
      "{'details_AISJDKFJW93NJ': {'product_name': 'Wall Art Print', 'brand': 'ArtCraft', 'model': 'NatureCanvas-1001', 'specifications': 'Canvas print, Ready to hang', 'price': '$49.99', 'availability': 'In stock'}, 'details_DJKFIEI432FIE': {'product_name': \"Men's Running Shoes\", 'brand': 'RunFit', 'model': 'SpeedX-500', 'specifications': 'Size 10, Lightweight design, Breathable material', 'price': '$79.99', 'availability': 'In stock'}, 'details_GGOENEBJ079499': {'product_name': 'Smartphone', 'brand': 'XYZ Electronics', 'model': 'ABC-2000', 'specifications': '6.5-inch display, 128GB storage, 16MP camera', 'price': '$499.99', 'availability': 'In stock'}, 'details_HJSKNWK429DJE': {'product_name': 'Wireless Earbuds', 'brand': 'SoundSync', 'model': 'TunePro-2022', 'specifications': 'Bluetooth 5.0, 20 hours battery life, Touch controls', 'price': '$89.99', 'availability': 'In stock'}, 'details_JFKL3940NFKLJ': {'product_name': 'Resistance Bands Set', 'brand': 'FitFlex', 'model': 'StrengthPro-300', 'specifications': '5 bands, Varying resistance levels, Portable', 'price': '$34.99', 'availability': 'In stock'}, 'details_LKDFJ49LSDJKL': {'product_name': 'Anti-Aging Face Cream', 'brand': 'GlowBeauty', 'model': 'AgeDefy-300', 'specifications': 'Natural ingredients, Hydrating formula', 'price': '$39.99', 'availability': 'In stock'}, 'details_MWKDI3JFK39SL': {'product_name': 'Fictional Novel', 'brand': 'BestBooks', 'model': None, 'specifications': 'Paperback, 300 pages', 'price': '$14.99', 'availability': 'In stock'}, 'details_NEKFJOWE9FDIW': {'product_name': 'Board Game', 'brand': 'FamilyFun', 'model': 'GameNight-2022', 'specifications': '2-6 players, Ages 8 and up', 'price': '$29.99', 'availability': 'In stock'}, 'details_OWEJL398FWJLK': {'product_name': 'Yoga Mat', 'brand': 'ZenFitness', 'model': 'EcoMat-500', 'specifications': 'Non-slip, 6mm thickness, Eco-friendly material', 'price': '$19.99', 'availability': 'In stock'}, 'details_XPLFJW2490XJN': {'product_name': 'Robot Vacuum Cleaner', 'brand': 'CleanTech', 'model': 'AutoSweep-9000', 'specifications': 'Smart navigation, HEPA filter, 90 minutes runtime', 'price': '$249.99', 'availability': 'In stock'}, 'TYS56KFJW93NJ': {'product_name': 'Laptop', 'brand': 'Acer', 'model': 'Acer Aspire 3', 'specifications': 'Intel Core i3 N305 Laptop (Windows 11 Home/8 GB/512 GB SSD) A314-36M, 35.56 cm (14\") Full HD Display, 1.4 KG, Pure Silver', 'price': 'INR 32,999.00', 'availability': 'In stock'}}\n",
      "\n",
      "Product Descriptions:\n",
      "{'description_AISJDKFJW93NJ': \"Transform your living space with ArtCraft's NatureCanvas-1001 Wall Art Print.\\nThis canvas print, ready to hang, brings the beauty of nature into your home.\\nWith dimensions of 16 x 20 inches and a 4.6/5 stars rating, it's a stunning addition to your decor, creating a focal point that captures attention and sparks conversation.\", 'description_DJKFIEI432FIE': \"Elevate your running experience with the RunFit SpeedX-500 Men's Running Shoes.\\nDesigned for performance, these shoes feature a lightweight design, breathable material, and are available in vibrant Red, Blue, and classic Black.\\nWhether you're a seasoned runner or just starting, these shoes provide comfort and support for every stride, ensuring you reach new milestones effortlessly.\", 'description_GGOENEBJ079499': 'Dive into the future with the XYZ Electronics Smartphone, model ABC-2000.\\nBoasting a 6.5-inch display, 128GB storage, and a 16MP camera, this powerful device redefines the smartphone experience.\\nWith a sleek design and available in Black, Silver, and Blue, it combines cutting-edge technology with style, ensuring you stay connected in the most sophisticated way possible.', 'description_HJSKNWK429DJE': \"Immerse yourself in superior audio quality with SoundSync's TunePro-2022 Wireless Earbuds.\\nFeaturing Bluetooth 5.0, 20 hours of battery life, and touch controls, these earbuds deliver a seamless and immersive listening experience.\\nAvailable in Black and White, they combine style with functionality for music lovers on the go. \\nWith a 4.7/5 stars rating, they stand out as a top choice in the realm of wireless audio.\", 'description_JFKL3940NFKLJ': \"Embrace versatility in your workouts with FitFlex's StrengthPro-300 Resistance Bands Set.\\nWith 5 bands offering varying resistance levels and portability, this set is your go-to for effective strength training.\\nAvailable in Red, Yellow, and Blue, it caters to different fitness levels and adds a dynamic dimension to your exercise routine.\", 'description_LKDFJ49LSDJKL': \"Rediscover youthful radiance with GlowBeauty's AgeDefy-300 Anti-Aging Face Cream.\\nFormulated with natural ingredients and a hydrating formula, this skincare essential rejuvenates and nourishes your skin, leaving you with a vibrant and refreshed complexion.\\nWith a stellar 4.7/5 stars rating, it's a must-have for those embracing the journey to ageless beauty.\", 'description_MWKDI3JFK39SL': \"Immerse yourself in the world of storytelling with BestBooks' Fictional Novel.\\nThis paperback, spanning 300 pages, promises a captivating journey through the pages of an engaging narrative.\\nIdeal for avid readers seeking an escape, this novel, with a 4.6/5 stars rating, is a testament to its ability to weave a compelling tale that keeps you hooked until the last page.\", 'description_NEKFJOWE9FDIW': \"Unleash the fun with FamilyFun's GameNight-2022 Board Game.\\nDesigned for 2-6 players and suitable for ages 8 and up, this exciting game promises laughter and bonding moments for the entire family.\\nWith a 4.4/5 stars rating, it's a testament to its ability to turn any ordinary night into an extraordinary game night filled with friendly competition and shared joy.\", 'description_OWEJL398FWJLK': \"Elevate your yoga practice with ZenFitness' EcoMat-500 Yoga Mat.\\nFeaturing a non-slip surface, 6mm thickness, and eco-friendly materials, this high-quality mat provides the perfect foundation for your workouts.\\nAvailable in Purple, Green, and Blue, it not only enhances your comfort but also adds a touch of serenity to your exercise routine.\", 'description_XPLFJW2490XJN': 'Introducing the CleanTech AutoSweep-9000 Robot Vacuum Cleaner â€“ your smart companion for automated cleaning.\\nWith smart navigation, a HEPA filter, and a runtime of 90 minutes, this efficient device takes care of your cleaning needs.\\nAvailable in White and Silver, it blends seamlessly into your home, making cleanliness a hassle-free experience.', 'TYS56KFJW93NJ': 'The Aspire 3 is ready to go with the latest Intel Core i3 N-Series Processors—ideal for the entire family, with performance and productivity at the core. Perfect to get more out of work, study, or play.'}\n"
     ]
    }
   ],
   "source": [
    "# Function to add sales data\n",
    "def add_sales_data(dictionary, key, value):\n",
    "    dictionary[key] = value\n",
    "\n",
    "# Function to add product details\n",
    "def add_product_details(dictionary, key, value):\n",
    "    dictionary[key] = value\n",
    "\n",
    "# Function to add product description\n",
    "def add_product_description(dictionary, key, value):\n",
    "    dictionary[key] = value\n",
    "\n",
    "# Function to create a new product\n",
    "def create(sku, sales_info, product_info, description):\n",
    "    add_sales_data(sales_data, sku, sales_info)\n",
    "    add_product_details(product_details, sku, product_info)\n",
    "    add_product_description(product_descriptions, sku, description)\n",
    "\n",
    "# Create a new product\n",
    "create('TYS56KFJW93NJ', [0, 0, 0, 0, 0, 0, 0, 0, 0, 0, 0, 0, 0, 0], \n",
    "       {'product_name': 'Laptop', 'brand': 'Acer', 'model': 'Acer Aspire 3', \n",
    "        'specifications': 'Intel Core i3 N305 Laptop (Windows 11 Home/8 GB/512 GB SSD) A314-36M, 35.56 cm (14\") Full HD Display, 1.4 KG, Pure Silver', \n",
    "        'price': 'INR 32,999.00', 'availability': 'In stock'}, \n",
    "       'The Aspire 3 is ready to go with the latest Intel Core i3 N-Series Processors—ideal for the entire family, with performance and productivity at the core. Perfect to get more out of work, study, or play.')\n",
    "\n",
    "# Print the dictionaries\n",
    "print(\"Sales Data:\")\n",
    "print(sales_data)\n",
    "print(\"\\nProduct Details:\")\n",
    "print(product_details)\n",
    "print(\"\\nProduct Descriptions:\")\n",
    "print(product_descriptions)"
   ]
  },
  {
   "cell_type": "markdown",
   "id": "7e8d3ddf-75a6-4472-9b78-b10157f25de8",
   "metadata": {},
   "source": [
    "# To display the data"
   ]
  },
  {
   "cell_type": "code",
   "execution_count": 8,
   "id": "0109fe32-0796-4d8e-b7df-4eb361136040",
   "metadata": {},
   "outputs": [],
   "source": [
    "# Function to display sales data\n",
    "def display_sales_data(sku):\n",
    "    print(\"Sales Data for\", sku, \":\", sales_data[sku])\n",
    "\n",
    "# Function to display product details\n",
    "def display_product_details(sku):\n",
    "    print(\"Product Details for\", sku, \":\", product_details[sku])\n",
    "\n",
    "# Function to display product description\n",
    "def display_product_descriptions(sku):\n",
    "    print(\"Product Description for\", sku, \":\", product_descriptions[sku])\n",
    "\n",
    "# Function to read product information\n",
    "def read(sku):\n",
    "    display_sales_data(sku)\n",
    "    display_product_details(sku)\n",
    "    display_product_descriptions(sku)"
   ]
  },
  {
   "cell_type": "code",
   "execution_count": 9,
   "id": "1b9a600d-3d12-4d27-98ef-7561e0f09e0e",
   "metadata": {},
   "outputs": [
    {
     "name": "stdout",
     "output_type": "stream",
     "text": [
      "Sales Data for TYS56KFJW93NJ : [0, 0, 0, 0, 0, 0, 0, 0, 0, 0, 0, 0, 0, 0]\n",
      "Product Details for TYS56KFJW93NJ : {'product_name': 'Laptop', 'brand': 'Acer', 'model': 'Acer Aspire 3', 'specifications': 'Intel Core i3 N305 Laptop (Windows 11 Home/8 GB/512 GB SSD) A314-36M, 35.56 cm (14\") Full HD Display, 1.4 KG, Pure Silver', 'price': 'INR 32,999.00', 'availability': 'In stock'}\n",
      "Product Description for TYS56KFJW93NJ : The Aspire 3 is ready to go with the latest Intel Core i3 N-Series Processors—ideal for the entire family, with performance and productivity at the core. Perfect to get more out of work, study, or play.\n"
     ]
    }
   ],
   "source": [
    "read('TYS56KFJW93NJ')"
   ]
  },
  {
   "cell_type": "markdown",
   "id": "f4183f38-f39e-4605-876c-9a18d5a9dc88",
   "metadata": {},
   "source": [
    "# To update the data"
   ]
  },
  {
   "cell_type": "code",
   "execution_count": 10,
   "id": "391dc9ee-c19e-4947-be03-947f7eb746e8",
   "metadata": {},
   "outputs": [],
   "source": [
    "# Function to update sales data\n",
    "def update_sales_data(dictionary, key, value):\n",
    "    dictionary[key] = value\n",
    "\n",
    "# Function to update product details\n",
    "def update_product_details(dictionary, key, value):\n",
    "    dictionary[key] = value\n",
    "\n",
    "# Function to update product description\n",
    "def update_product_descriptions(dictionary, key, value):\n",
    "    dictionary[key] = value\n",
    "\n",
    "# Function to update product information\n",
    "def update(sku, sales_info, product_info, description):\n",
    "    update_sales_data(sales_data, sku, sales_info)\n",
    "    update_product_details(product_details, sku, product_info)\n",
    "    update_product_descriptions(product_descriptions, sku, description)\n"
   ]
  },
  {
   "cell_type": "markdown",
   "id": "5e5687dc-f0f8-45ee-96f8-539ddc130f35",
   "metadata": {},
   "source": [
    "# To delete the data"
   ]
  },
  {
   "cell_type": "code",
   "execution_count": 11,
   "id": "460819b7-47d2-49b8-be95-075d4f44e8f9",
   "metadata": {},
   "outputs": [],
   "source": [
    "# function to delete the dat from dict using speific sku\n",
    "def delete(sku):\n",
    "    del sales_data[sku]\n",
    "    del product_details[sku]\n",
    "    del product_descriptions[sku]\n",
    "    print(\"Product information successfully deleted.\")"
   ]
  },
  {
   "cell_type": "code",
   "execution_count": 12,
   "id": "62940c89-07d4-41a1-98e4-5c6ac2fdc2cd",
   "metadata": {},
   "outputs": [
    {
     "name": "stdout",
     "output_type": "stream",
     "text": [
      "Product information successfully deleted.\n"
     ]
    }
   ],
   "source": [
    "delete('TYS56KFJW93NJ')"
   ]
  },
  {
   "cell_type": "code",
   "execution_count": null,
   "id": "06f95bfd-814b-4494-8128-00882898c251",
   "metadata": {},
   "outputs": [],
   "source": []
  },
  {
   "cell_type": "code",
   "execution_count": null,
   "id": "dfda56a2-6ec1-4ed0-a1dd-13f36c255de6",
   "metadata": {},
   "outputs": [],
   "source": []
  },
  {
   "cell_type": "code",
   "execution_count": null,
   "id": "93aeef41-6dce-44e5-9765-2d5165e514ab",
   "metadata": {},
   "outputs": [],
   "source": []
  },
  {
   "cell_type": "code",
   "execution_count": null,
   "id": "637ec521-0568-4a30-a4c3-5b936f0be449",
   "metadata": {},
   "outputs": [],
   "source": []
  }
 ],
 "metadata": {
  "kernelspec": {
   "display_name": "Python 3 (ipykernel)",
   "language": "python",
   "name": "python3"
  },
  "language_info": {
   "codemirror_mode": {
    "name": "ipython",
    "version": 3
   },
   "file_extension": ".py",
   "mimetype": "text/x-python",
   "name": "python",
   "nbconvert_exporter": "python",
   "pygments_lexer": "ipython3",
   "version": "3.11.7"
  }
 },
 "nbformat": 4,
 "nbformat_minor": 5
}
